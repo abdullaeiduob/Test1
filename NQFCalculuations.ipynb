{
    "cells": [
        {
            "cell_type": "code",
            "execution_count": 1,
            "metadata": {},
            "outputs": [
                {
                    "name": "stdout",
                    "output_type": "stream",
                    "text": "Waiting for a Spark session to start...\nSpark Initialization Done! ApplicationId = app-20200803104141-0000\nKERNEL_ID = f0196edf-4182-42bb-94c1-f49b3e7f1828\n"
                },
                {
                    "data": {
                        "text/html": "<div>\n<style scoped>\n    .dataframe tbody tr th:only-of-type {\n        vertical-align: middle;\n    }\n\n    .dataframe tbody tr th {\n        vertical-align: top;\n    }\n\n    .dataframe thead th {\n        text-align: right;\n    }\n</style>\n<table border=\"1\" class=\"dataframe\">\n  <thead>\n    <tr style=\"text-align: right;\">\n      <th></th>\n      <th>Unnamed: 0</th>\n      <th>Unnamed: 1</th>\n      <th>Unnamed: 2</th>\n      <th>Unnamed: 3</th>\n      <th>Unnamed: 4</th>\n      <th>Unnamed: 5</th>\n      <th>Unnamed: 6</th>\n    </tr>\n  </thead>\n  <tbody>\n    <tr>\n      <th>0</th>\n      <td>1</td>\n      <td>ITCS 113</td>\n      <td>Computer Programming I</td>\n      <td>Mandatory</td>\n      <td>NaN</td>\n      <td>5.0</td>\n      <td>12.0</td>\n    </tr>\n    <tr>\n      <th>1</th>\n      <td>2</td>\n      <td>MATHS 121</td>\n      <td>Calculus and Analytic Geometry I</td>\n      <td>Mandatory</td>\n      <td>NaN</td>\n      <td>5.0</td>\n      <td>12.0</td>\n    </tr>\n    <tr>\n      <th>2</th>\n      <td>3</td>\n      <td>CHEMY 101</td>\n      <td>General Chemistry I</td>\n      <td>Mandatory</td>\n      <td>NaN</td>\n      <td>5.0</td>\n      <td>15.0</td>\n    </tr>\n    <tr>\n      <th>3</th>\n      <td>4</td>\n      <td>PHYCS 101</td>\n      <td>General Physics I</td>\n      <td>Mandatory</td>\n      <td>NaN</td>\n      <td>5.0</td>\n      <td>16.0</td>\n    </tr>\n    <tr>\n      <th>4</th>\n      <td>5</td>\n      <td>BILOS 102</td>\n      <td>General Biology I</td>\n      <td>Mandatory</td>\n      <td>NaN</td>\n      <td>5.0</td>\n      <td>16.0</td>\n    </tr>\n  </tbody>\n</table>\n</div>",
                        "text/plain": "  Unnamed: 0 Unnamed: 1                        Unnamed: 2 Unnamed: 3  \\\n0          1   ITCS 113            Computer Programming I  Mandatory   \n1          2  MATHS 121  Calculus and Analytic Geometry I  Mandatory   \n2          3  CHEMY 101               General Chemistry I  Mandatory   \n3          4  PHYCS 101                 General Physics I  Mandatory   \n4          5  BILOS 102                 General Biology I  Mandatory   \n\n  Unnamed: 4  Unnamed: 5  Unnamed: 6  \n0        NaN         5.0        12.0  \n1        NaN         5.0        12.0  \n2        NaN         5.0        15.0  \n3        NaN         5.0        16.0  \n4        NaN         5.0        16.0  "
                    },
                    "execution_count": 1,
                    "metadata": {},
                    "output_type": "execute_result"
                }
            ],
            "source": "# The code was removed by Watson Studio for sharing."
        },
        {
            "cell_type": "code",
            "execution_count": null,
            "metadata": {},
            "outputs": [],
            "source": ""
        }
    ],
    "metadata": {
        "kernelspec": {
            "display_name": "Python 3.6 with Spark",
            "language": "python3",
            "name": "python36"
        },
        "language_info": {
            "codemirror_mode": {
                "name": "ipython",
                "version": 3
            },
            "file_extension": ".py",
            "mimetype": "text/x-python",
            "name": "python",
            "nbconvert_exporter": "python",
            "pygments_lexer": "ipython3",
            "version": "3.6.8"
        }
    },
    "nbformat": 4,
    "nbformat_minor": 1
}